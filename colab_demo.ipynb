{
  "nbformat": 4,
  "nbformat_minor": 0,
  "metadata": {
    "colab": {
      "name": "Untitled1.ipynb",
      "version": "0.3.2",
      "provenance": [],
      "include_colab_link": true
    },
    "kernelspec": {
      "name": "python3",
      "display_name": "Python 3"
    },
    "accelerator": "GPU"
  },
  "cells": [
    {
      "cell_type": "markdown",
      "metadata": {
        "id": "view-in-github",
        "colab_type": "text"
      },
      "source": [
        "<a href=\"https://colab.research.google.com/github/hugeinteger/InterFaceGAN/blob/master/colab_demo.ipynb\" target=\"_parent\"><img src=\"https://colab.research.google.com/assets/colab-badge.svg\" alt=\"Open In Colab\"/></a>"
      ]
    },
    {
      "cell_type": "markdown",
      "metadata": {
        "id": "MV7IvNVpEjZX",
        "colab_type": "text"
      },
      "source": [
        "Before running make sure GPU usage is enabled.\n",
        "Runtime->Change runtime type->GPU"
      ]
    },
    {
      "cell_type": "code",
      "metadata": {
        "id": "K4ZVyj8h7w6F",
        "colab_type": "code",
        "outputId": "21c1b192-3fb3-4be2-acaa-aaf706d99b70",
        "colab": {
          "base_uri": "https://localhost:8080/",
          "height": 139
        }
      },
      "source": [
        "!git clone https://github.com/ShenYujun/InterFaceGAN.git InterFaceGAN\n",
        "import os\n",
        "os.chdir(\"InterFaceGAN\")"
      ],
      "execution_count": 1,
      "outputs": [
        {
          "output_type": "stream",
          "text": [
            "Cloning into 'InterFaceGAN'...\n",
            "remote: Enumerating objects: 171, done.\u001b[K\n",
            "remote: Counting objects: 100% (171/171), done.\u001b[K\n",
            "remote: Compressing objects: 100% (131/131), done.\u001b[K\n",
            "remote: Total 171 (delta 48), reused 153 (delta 36), pack-reused 0\u001b[K\n",
            "Receiving objects: 100% (171/171), 2.07 MiB | 15.01 MiB/s, done.\n",
            "Resolving deltas: 100% (48/48), done.\n"
          ],
          "name": "stdout"
        }
      ]
    },
    {
      "cell_type": "markdown",
      "metadata": {
        "id": "axSLlkDPWAlo",
        "colab_type": "text"
      },
      "source": [
        "Mount google drive"
      ]
    },
    {
      "cell_type": "code",
      "metadata": {
        "id": "7M2JFM-IECCq",
        "colab_type": "code",
        "outputId": "49a92563-c195-4888-82d9-8bec0ed8a1a2",
        "colab": {
          "base_uri": "https://localhost:8080/",
          "height": 124
        }
      },
      "source": [
        "from google.colab import drive\n",
        "drive.mount('/gdrive')"
      ],
      "execution_count": 2,
      "outputs": [
        {
          "output_type": "stream",
          "text": [
            "Go to this URL in a browser: https://accounts.google.com/o/oauth2/auth?client_id=947318989803-6bn6qk8qdgf4n4g3pfee6491hc0brc4i.apps.googleusercontent.com&redirect_uri=urn%3Aietf%3Awg%3Aoauth%3A2.0%3Aoob&scope=email%20https%3A%2F%2Fwww.googleapis.com%2Fauth%2Fdocs.test%20https%3A%2F%2Fwww.googleapis.com%2Fauth%2Fdrive%20https%3A%2F%2Fwww.googleapis.com%2Fauth%2Fdrive.photos.readonly%20https%3A%2F%2Fwww.googleapis.com%2Fauth%2Fpeopleapi.readonly&response_type=code\n",
            "\n",
            "Enter your authorization code:\n",
            "··········\n",
            "Mounted at /gdrive\n"
          ],
          "name": "stdout"
        }
      ]
    },
    {
      "cell_type": "markdown",
      "metadata": {
        "id": "rKhVdEfIV7i6",
        "colab_type": "text"
      },
      "source": [
        "Copy pretrained models from my google drive.</br>\n",
        "StyleGAN - https://drive.google.com/open?id=1uka3a1noXHAydRPRbknqwKVGODvnmUBX </br>\n",
        "ProGAN - https://drive.google.com/open?id=0B4qLcYyJmiz0NHFULTdYc05lX0U"
      ]
    },
    {
      "cell_type": "code",
      "metadata": {
        "id": "olZ6C0ZwRuxY",
        "colab_type": "code",
        "colab": {}
      },
      "source": [
        "# StyleGAN model pre-trained on celebahq dataset\n",
        "!cp '/gdrive/My Drive/StyleGAN/networks/karras2019stylegan-celebahq-1024x1024.pkl' models/pretrain\n",
        "\n",
        "# StyleGAN model pre-trained on ffhq dataset\n",
        "!cp '/gdrive/My Drive/StyleGAN/networks/karras2019stylegan-ffhq-1024x1024.pkl' models/pretrain\n",
        "\n",
        "# ProGAN model pre-trained on celebahq dataset\n",
        "!cp '/gdrive/My Drive/ProgressiveGAN/networks/tensorflow-version/karras2018iclr-celebahq-1024x1024.pkl' models/pretrain"
      ],
      "execution_count": 0,
      "outputs": []
    },
    {
      "cell_type": "markdown",
      "metadata": {
        "id": "9XzuqqyeWKGm",
        "colab_type": "text"
      },
      "source": [
        "Generate images and latent codes.\n",
        "Below calls could cause CuDNN version errors, but they disappear after re-runs."
      ]
    },
    {
      "cell_type": "code",
      "metadata": {
        "id": "a_hkrc6anzPE",
        "colab_type": "code",
        "outputId": "4e6f0d2d-02ab-4f3b-d295-7a4b6ab45066",
        "colab": {
          "base_uri": "https://localhost:8080/",
          "height": 433
        }
      },
      "source": [
        "#!mkdir data\n",
        "!rm -rf data/stylegan_celebahq\n",
        "!python generate_data.py -m stylegan_celebahq -o data/stylegan_celebahq -n 3\n",
        "!rm -rf data/stylegan_ffhq\n",
        "!python generate_data.py -m stylegan_ffhq -o data/stylegan_ffhq -n 3\n",
        "!rm -rf data/pggan_celebahq\n",
        "!python generate_data.py -m pggan_celebahq -o data/pggan_celebahq -n 3\n"
      ],
      "execution_count": 14,
      "outputs": [
        {
          "output_type": "stream",
          "text": [
            "[2019-09-05 21:07:40,642][INFO] Initializing generator.\n",
            "[2019-09-05 21:07:40,958][INFO] Loading pytorch model from `models/pretrain/stylegan_celebahq.pth`.\n",
            "[2019-09-05 21:07:41,281][INFO] Successfully loaded!\n",
            "[2019-09-05 21:07:41,281][INFO]   `lod` of the loaded model is 0.0.\n",
            "[2019-09-05 21:07:43,758][INFO] Preparing latent codes.\n",
            "[2019-09-05 21:07:43,758][INFO]   Sample latent codes randomly.\n",
            "[2019-09-05 21:07:43,759][INFO] Generating 3 samples.\n",
            "[2019-09-05 21:07:44,418][INFO] Saving results.\n",
            "[2019-09-05 21:07:47,448][INFO] Initializing generator.\n",
            "[2019-09-05 21:07:47,762][INFO] Loading pytorch model from `models/pretrain/stylegan_ffhq.pth`.\n",
            "[2019-09-05 21:07:48,081][INFO] Successfully loaded!\n",
            "[2019-09-05 21:07:48,082][INFO]   `lod` of the loaded model is 0.0.\n",
            "[2019-09-05 21:07:50,549][INFO] Preparing latent codes.\n",
            "[2019-09-05 21:07:50,549][INFO]   Sample latent codes randomly.\n",
            "[2019-09-05 21:07:50,549][INFO] Generating 3 samples.\n",
            "[2019-09-05 21:07:51,181][INFO] Saving results.\n",
            "[2019-09-05 21:07:54,348][INFO] Initializing generator.\n",
            "[2019-09-05 21:07:54,601][INFO] Loading pytorch model from `models/pretrain/pggan_celebahq.pth`.\n",
            "[2019-09-05 21:07:54,865][INFO] Successfully loaded!\n",
            "[2019-09-05 21:07:54,865][INFO]   `lod` of the loaded model is 0.0.\n",
            "[2019-09-05 21:07:57,311][INFO] Preparing latent codes.\n",
            "[2019-09-05 21:07:57,311][INFO]   Sample latent codes randomly.\n",
            "[2019-09-05 21:07:57,311][INFO] Generating 3 samples.\n",
            "[2019-09-05 21:07:57,839][INFO] Saving results.\n"
          ],
          "name": "stdout"
        }
      ]
    },
    {
      "cell_type": "code",
      "metadata": {
        "id": "xs4fGSf-Sgnm",
        "colab_type": "code",
        "colab": {}
      },
      "source": [
        "import matplotlib.pyplot as plt\n",
        "import matplotlib.image as mpimg\n",
        "import glob\n",
        "%matplotlib inline\n",
        "\n",
        "directory=os.listdir('data')\n",
        "for each in directory:\n",
        "    plt.figure(figsize=(15, 6))\n",
        "    currentFolder = 'data/' + each\n",
        "    i=1\n",
        "    for fullpath in glob.glob(currentFolder + \"/*.jpg\"):\n",
        "        #print(fullpath)\n",
        "        img=mpimg.imread(fullpath)\n",
        "        plt.subplot(2, 3, i)\n",
        "        plt.imshow(img)\n",
        "        ++i\n",
        "\n",
        "\n"
      ],
      "execution_count": 0,
      "outputs": []
    },
    {
      "cell_type": "code",
      "metadata": {
        "id": "vIXmcVyOaBbP",
        "colab_type": "code",
        "colab": {
          "base_uri": "https://localhost:8080/",
          "height": 891
        },
        "outputId": "b8f9c122-e651-4f89-fc0d-d32a2e7cff6f"
      },
      "source": [
        "fig,ax = plt.subplots(3, 3)\n",
        "\n",
        "directory=os.listdir('data')\n",
        "for each in directory:\n",
        "    plt.figure(figsize=(15, 6))\n",
        "    currentFolder = 'data/' + each\n",
        "    i=1\n",
        "    for fullpath in glob.glob(currentFolder + \"/*.jpg\"):\n",
        "      img=mpimg.imread(fullpath)\n",
        "      plt.subplot(2, 3, i)\n",
        "      ax[i%3][i//3].imshow(img)\n",
        "      ++i\n",
        "fig.show()"
      ],
      "execution_count": 34,
      "outputs": [
        {
          "output_type": "stream",
          "text": [
            "/usr/local/lib/python3.6/dist-packages/matplotlib/figure.py:98: MatplotlibDeprecationWarning: \n",
            "Adding an axes using the same arguments as a previous axes currently reuses the earlier instance.  In a future version, a new instance will always be created and returned.  Meanwhile, this warning can be suppressed, and the future behavior ensured, by passing a unique label to each axes instance.\n",
            "  \"Adding an axes using the same arguments as a previous axes \"\n"
          ],
          "name": "stderr"
        },
        {
          "output_type": "display_data",
          "data": {
            "image/png": "[encoded data removed]",
            "text/plain": [
              "<Figure size 432x288 with 9 Axes>"
            ]
          },
          "metadata": {
            "tags": []
          }
        },
        {
          "output_type": "display_data",
          "data": {
            "image/png": "[encoded data removed]",
            "text/plain": [
              "<Figure size 1080x432 with 1 Axes>"
            ]
          },
          "metadata": {
            "tags": []
          }
        },
        {
          "output_type": "display_data",
          "data": {
            "image/png": "[encoded data removed]",
            "text/plain": [
              "<Figure size 1080x432 with 1 Axes>"
            ]
          },
          "metadata": {
            "tags": []
          }
        },
        {
          "output_type": "display_data",
          "data": {
            "image/png": "[encoded data removed]",
            "text/plain": [
              "<Figure size 1080x432 with 1 Axes>"
            ]
          },
          "metadata": {
            "tags": []
          }
        }
      ]
    },
    {
      "cell_type": "code",
      "metadata": {
        "id": "9i-kQbNeVXxK",
        "colab_type": "code",
        "outputId": "0e2f7555-1544-494a-c56d-aedda7943b40",
        "colab": {
          "base_uri": "https://localhost:8080/",
          "height": 170
        }
      },
      "source": [
        "#!mkdir results\n",
        "!rm -rf results/stylegan_celebahq_smile_editing\n",
        "#!python edit.py -h\n",
        "!python edit.py  -m stylegan_celebahq -b boundaries/stylegan_celebahq_smile_boundary.npy -i data/stylegan_celebahq/z.npy -o results/stylegan_celebahq_smile_editing "
      ],
      "execution_count": 0,
      "outputs": [
        {
          "output_type": "stream",
          "text": [
            "[2019-09-04 13:05:58,228][INFO] Initializing generator.\n",
            "[2019-09-04 13:05:58,531][INFO] Loading pytorch model from `models/pretrain/stylegan_celebahq.pth`.\n",
            "[2019-09-04 13:05:58,864][INFO] Successfully loaded!\n",
            "[2019-09-04 13:05:58,865][INFO]   `lod` of the loaded model is 0.0.\n",
            "[2019-09-04 13:06:01,371][INFO] Preparing boundary.\n",
            "[2019-09-04 13:06:01,383][INFO] Preparing latent codes.\n",
            "[2019-09-04 13:06:01,383][INFO]   Load latent codes from `data/stylegan_celebahq/z.npy`.\n",
            "[2019-09-04 13:06:01,384][INFO] Editing 10 samples.\n",
            "[2019-09-04 13:06:18,039][INFO] Successfully edited 10 samples.\n"
          ],
          "name": "stdout"
        }
      ]
    },
    {
      "cell_type": "code",
      "metadata": {
        "id": "bVvFhetRWoKY",
        "colab_type": "code",
        "colab": {}
      },
      "source": [
        ""
      ],
      "execution_count": 0,
      "outputs": []
    }
  ]
}