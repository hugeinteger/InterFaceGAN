{
  "nbformat": 4,
  "nbformat_minor": 0,
  "metadata": {
    "colab": {
      "name": "Untitled1.ipynb",
      "version": "0.3.2",
      "provenance": [],
      "include_colab_link": true
    },
    "kernelspec": {
      "name": "python3",
      "display_name": "Python 3"
    },
    "accelerator": "GPU"
  },
  "cells": [
    {
      "cell_type": "markdown",
      "metadata": {
        "id": "view-in-github",
        "colab_type": "text"
      },
      "source": [
        "<a href=\"https://colab.research.google.com/github/hugeinteger/InterFaceGAN/blob/master/colab_demo.ipynb\" target=\"_parent\"><img src=\"https://colab.research.google.com/assets/colab-badge.svg\" alt=\"Open In Colab\"/></a>"
      ]
    },
    {
      "cell_type": "code",
      "metadata": {
        "id": "K4ZVyj8h7w6F",
        "colab_type": "code",
        "outputId": "8c4a10d9-2cd2-4906-8695-ef93c2d8a10f",
        "colab": {
          "base_uri": "https://localhost:8080/",
          "height": 136
        }
      },
      "source": [
        "!git clone https://github.com/ShenYujun/InterFaceGAN.git InterFaceGAN\n",
        "import os\n",
        "os.chdir(\"InterFaceGAN\")"
      ],
      "execution_count": 4,
      "outputs": [
        {
          "output_type": "stream",
          "text": [
            "Cloning into 'InterFaceGAN'...\n",
            "remote: Enumerating objects: 171, done.\u001b[K\n",
            "remote: Counting objects:   0% (1/171)\u001b[K\rremote: Counting objects:   1% (2/171)\u001b[K\rremote: Counting objects:   2% (4/171)\u001b[K\rremote: Counting objects:   3% (6/171)\u001b[K\rremote: Counting objects:   4% (7/171)\u001b[K\rremote: Counting objects:   5% (9/171)\u001b[K\rremote: Counting objects:   6% (11/171)\u001b[K\rremote: Counting objects:   7% (12/171)\u001b[K\rremote: Counting objects:   8% (14/171)\u001b[K\rremote: Counting objects:   9% (16/171)\u001b[K\rremote: Counting objects:  10% (18/171)\u001b[K\rremote: Counting objects:  11% (19/171)\u001b[K\rremote: Counting objects:  12% (21/171)\u001b[K\rremote: Counting objects:  13% (23/171)\u001b[K\rremote: Counting objects:  14% (24/171)\u001b[K\rremote: Counting objects:  15% (26/171)\u001b[K\rremote: Counting objects:  16% (28/171)\u001b[K\rremote: Counting objects:  17% (30/171)\u001b[K\rremote: Counting objects:  18% (31/171)\u001b[K\rremote: Counting objects:  19% (33/171)\u001b[K\rremote: Counting objects:  20% (35/171)\u001b[K\rremote: Counting objects:  21% (36/171)\u001b[K\rremote: Counting objects:  22% (38/171)\u001b[K\rremote: Counting objects:  23% (40/171)\u001b[K\rremote: Counting objects:  24% (42/171)\u001b[K\rremote: Counting objects:  25% (43/171)\u001b[K\rremote: Counting objects:  26% (45/171)\u001b[K\rremote: Counting objects:  27% (47/171)\u001b[K\rremote: Counting objects:  28% (48/171)\u001b[K\rremote: Counting objects:  29% (50/171)\u001b[K\rremote: Counting objects:  30% (52/171)\u001b[K\rremote: Counting objects:  31% (54/171)\u001b[K\rremote: Counting objects:  32% (55/171)\u001b[K\rremote: Counting objects:  33% (57/171)\u001b[K\rremote: Counting objects:  34% (59/171)\u001b[K\rremote: Counting objects:  35% (60/171)\u001b[K\rremote: Counting objects:  36% (62/171)\u001b[K\rremote: Counting objects:  37% (64/171)\u001b[K\rremote: Counting objects:  38% (65/171)\u001b[K\rremote: Counting objects:  39% (67/171)\u001b[K\rremote: Counting objects:  40% (69/171)\u001b[K\rremote: Counting objects:  41% (71/171)\u001b[K\rremote: Counting objects:  42% (72/171)\u001b[K\rremote: Counting objects:  43% (74/171)\u001b[K\rremote: Counting objects:  44% (76/171)\u001b[K\rremote: Counting objects:  45% (77/171)\u001b[K\rremote: Counting objects:  46% (79/171)\u001b[K\rremote: Counting objects:  47% (81/171)\u001b[K\rremote: Counting objects:  48% (83/171)\u001b[K\rremote: Counting objects:  49% (84/171)\u001b[K\rremote: Counting objects:  50% (86/171)\u001b[K\rremote: Counting objects:  51% (88/171)\u001b[K\rremote: Counting objects:  52% (89/171)\u001b[K\rremote: Counting objects:  53% (91/171)\u001b[K\rremote: Counting objects:  54% (93/171)\u001b[K\rremote: Counting objects:  55% (95/171)\u001b[K\rremote: Counting objects:  56% (96/171)\u001b[K\rremote: Counting objects:  57% (98/171)\u001b[K\rremote: Counting objects:  58% (100/171)\u001b[K\rremote: Counting objects:  59% (101/171)\u001b[K\rremote: Counting objects:  60% (103/171)\u001b[K\rremote: Counting objects:  61% (105/171)\u001b[K\rremote: Counting objects:  62% (107/171)\u001b[K\rremote: Counting objects:  63% (108/171)\u001b[K\rremote: Counting objects:  64% (110/171)\u001b[K\rremote: Counting objects:  65% (112/171)\u001b[K\rremote: Counting objects:  66% (113/171)\u001b[K\rremote: Counting objects:  67% (115/171)\u001b[K\rremote: Counting objects:  68% (117/171)\u001b[K\rremote: Counting objects:  69% (118/171)\u001b[K\rremote: Counting objects:  70% (120/171)\u001b[K\rremote: Counting objects:  71% (122/171)\u001b[K\rremote: Counting objects:  72% (124/171)\u001b[K\rremote: Counting objects:  73% (125/171)\u001b[K\rremote: Counting objects:  74% (127/171)\u001b[K\rremote: Counting objects:  75% (129/171)\u001b[K\rremote: Counting objects:  76% (130/171)\u001b[K\rremote: Counting objects:  77% (132/171)\u001b[K\rremote: Counting objects:  78% (134/171)\u001b[K\rremote: Counting objects:  79% (136/171)\u001b[K\rremote: Counting objects:  80% (137/171)\u001b[K\rremote: Counting objects:  81% (139/171)\u001b[K\rremote: Counting objects:  82% (141/171)\u001b[K\rremote: Counting objects:  83% (142/171)\u001b[K\rremote: Counting objects:  84% (144/171)\u001b[K\rremote: Counting objects:  85% (146/171)\u001b[K\rremote: Counting objects:  86% (148/171)\u001b[K\rremote: Counting objects:  87% (149/171)\u001b[K\rremote: Counting objects:  88% (151/171)\u001b[K\rremote: Counting objects:  89% (153/171)\u001b[K\rremote: Counting objects:  90% (154/171)\u001b[K\rremote: Counting objects:  91% (156/171)\u001b[K\rremote: Counting objects:  92% (158/171)\u001b[K\rremote: Counting objects:  93% (160/171)\u001b[K\rremote: Counting objects:  94% (161/171)\u001b[K\rremote: Counting objects:  95% (163/171)\u001b[K\rremote: Counting objects:  96% (165/171)\u001b[K\rremote: Counting objects:  97% (166/171)\u001b[K\rremote: Counting objects:  98% (168/171)\u001b[K\rremote: Counting objects:  99% (170/171)\u001b[K\rremote: Counting objects: 100% (171/171)\u001b[K\rremote: Counting objects: 100% (171/171), done.\u001b[K\n",
            "remote: Compressing objects:   0% (1/131)\u001b[K\rremote: Compressing objects:   1% (2/131)\u001b[K\rremote: Compressing objects:   2% (3/131)\u001b[K\rremote: Compressing objects:   3% (4/131)\u001b[K\rremote: Compressing objects:   4% (6/131)\u001b[K\rremote: Compressing objects:   5% (7/131)\u001b[K\rremote: Compressing objects:   6% (8/131)\u001b[K\rremote: Compressing objects:   7% (10/131)\u001b[K\rremote: Compressing objects:   8% (11/131)\u001b[K\rremote: Compressing objects:   9% (12/131)\u001b[K\rremote: Compressing objects:  10% (14/131)\u001b[K\rremote: Compressing objects:  11% (15/131)\u001b[K\rremote: Compressing objects:  12% (16/131)\u001b[K\rremote: Compressing objects:  13% (18/131)\u001b[K\rremote: Compressing objects:  14% (19/131)\u001b[K\rremote: Compressing objects:  15% (20/131)\u001b[K\rremote: Compressing objects:  16% (21/131)\u001b[K\rremote: Compressing objects:  17% (23/131)\u001b[K\rremote: Compressing objects:  18% (24/131)\u001b[K\rremote: Compressing objects:  19% (25/131)\u001b[K\rremote: Compressing objects:  20% (27/131)\u001b[K\rremote: Compressing objects:  21% (28/131)\u001b[K\rremote: Compressing objects:  22% (29/131)\u001b[K\rremote: Compressing objects:  23% (31/131)\u001b[K\rremote: Compressing objects:  24% (32/131)\u001b[K\rremote: Compressing objects:  25% (33/131)\u001b[K\rremote: Compressing objects:  26% (35/131)\u001b[K\rremote: Compressing objects:  27% (36/131)\u001b[K\rremote: Compressing objects:  28% (37/131)\u001b[K\rremote: Compressing objects:  29% (38/131)\u001b[K\rremote: Compressing objects:  30% (40/131)\u001b[K\rremote: Compressing objects:  31% (41/131)\u001b[K\rremote: Compressing objects:  32% (42/131)\u001b[K\rremote: Compressing objects:  33% (44/131)\u001b[K\rremote: Compressing objects:  34% (45/131)\u001b[K\rremote: Compressing objects:  35% (46/131)\u001b[K\rremote: Compressing objects:  36% (48/131)\u001b[K\rremote: Compressing objects:  37% (49/131)\u001b[K\rremote: Compressing objects:  38% (50/131)\u001b[K\rremote: Compressing objects:  39% (52/131)\u001b[K\rremote: Compressing objects:  40% (53/131)\u001b[K\rremote: Compressing objects:  41% (54/131)\u001b[K\rremote: Compressing objects:  42% (56/131)\u001b[K\rremote: Compressing objects:  43% (57/131)\u001b[K\rremote: Compressing objects:  44% (58/131)\u001b[K\rremote: Compressing objects:  45% (59/131)\u001b[K\rremote: Compressing objects:  46% (61/131)\u001b[K\rremote: Compressing objects:  47% (62/131)\u001b[K\rremote: Compressing objects:  48% (63/131)\u001b[K\rremote: Compressing objects:  49% (65/131)\u001b[K\rremote: Compressing objects:  50% (66/131)\u001b[K\rremote: Compressing objects:  51% (67/131)\u001b[K\rremote: Compressing objects:  52% (69/131)\u001b[K\rremote: Compressing objects:  53% (70/131)\u001b[K\rremote: Compressing objects:  54% (71/131)\u001b[K\rremote: Compressing objects:  55% (73/131)\u001b[K\rremote: Compressing objects:  56% (74/131)\u001b[K\rremote: Compressing objects:  57% (75/131)\u001b[K\rremote: Compressing objects:  58% (76/131)\u001b[K\rremote: Compressing objects:  59% (78/131)\u001b[K\rremote: Compressing objects:  60% (79/131)\u001b[K\rremote: Compressing objects:  61% (80/131)\u001b[K\rremote: Compressing objects:  62% (82/131)\u001b[K\rremote: Compressing objects:  63% (83/131)\u001b[K\rremote: Compressing objects:  64% (84/131)\u001b[K\rremote: Compressing objects:  65% (86/131)\u001b[K\rremote: Compressing objects:  66% (87/131)\u001b[K\rremote: Compressing objects:  67% (88/131)\u001b[K\rremote: Compressing objects:  68% (90/131)\u001b[K\rremote: Compressing objects:  69% (91/131)\u001b[K\rremote: Compressing objects:  70% (92/131)\u001b[K\rremote: Compressing objects:  71% (94/131)\u001b[K\rremote: Compressing objects:  72% (95/131)\u001b[K\rremote: Compressing objects:  73% (96/131)\u001b[K\rremote: Compressing objects:  74% (97/131)\u001b[K\rremote: Compressing objects:  75% (99/131)\u001b[K\rremote: Compressing objects:  76% (100/131)\u001b[K\rremote: Compressing objects:  77% (101/131)\u001b[K\rremote: Compressing objects:  78% (103/131)\u001b[K\rremote: Compressing objects:  79% (104/131)\u001b[K\rremote: Compressing objects:  80% (105/131)\u001b[K\rremote: Compressing objects:  81% (107/131)\u001b[K\rremote: Compressing objects:  82% (108/131)\u001b[K\rremote: Compressing objects:  83% (109/131)\u001b[K\rremote: Compressing objects:  84% (111/131)\u001b[K\rremote: Compressing objects:  85% (112/131)\u001b[K\rremote: Compressing objects:  86% (113/131)\u001b[K\rremote: Compressing objects:  87% (114/131)\u001b[K\rremote: Compressing objects:  88% (116/131)\u001b[K\rremote: Compressing objects:  89% (117/131)\u001b[K\rremote: Compressing objects:  90% (118/131)\u001b[K\rremote: Compressing objects:  91% (120/131)\u001b[K\rremote: Compressing objects:  92% (121/131)\u001b[K\rremote: Compressing objects:  93% (122/131)\u001b[K\rremote: Compressing objects:  94% (124/131)\u001b[K\rremote: Compressing objects:  95% (125/131)\u001b[K\rremote: Compressing objects:  96% (126/131)\u001b[K\rremote: Compressing objects:  97% (128/131)\u001b[K\rremote: Compressing objects:  98% (129/131)\u001b[K\rremote: Compressing objects:  99% (130/131)\u001b[K\rremote: Compressing objects: 100% (131/131)\u001b[K\rremote: Compressing objects: 100% (131/131), done.\u001b[K\n",
            "Receiving objects:   0% (1/171)   \rReceiving objects:   1% (2/171)   \rReceiving objects:   2% (4/171)   \rReceiving objects:   3% (6/171)   \rReceiving objects:   4% (7/171)   \rReceiving objects:   5% (9/171)   \rReceiving objects:   6% (11/171)   \rReceiving objects:   7% (12/171)   \rReceiving objects:   8% (14/171)   \rReceiving objects:   9% (16/171)   \rReceiving objects:  10% (18/171)   \rReceiving objects:  11% (19/171)   \rReceiving objects:  12% (21/171)   \rReceiving objects:  13% (23/171)   \rReceiving objects:  14% (24/171)   \rReceiving objects:  15% (26/171)   \rReceiving objects:  16% (28/171)   \rReceiving objects:  17% (30/171)   \rReceiving objects:  18% (31/171)   \rReceiving objects:  19% (33/171)   \rReceiving objects:  20% (35/171)   \rReceiving objects:  21% (36/171)   \rReceiving objects:  22% (38/171)   \rReceiving objects:  23% (40/171)   \rReceiving objects:  24% (42/171)   \rReceiving objects:  25% (43/171)   \rReceiving objects:  26% (45/171)   \rReceiving objects:  27% (47/171)   \rReceiving objects:  28% (48/171)   \rReceiving objects:  29% (50/171)   \rReceiving objects:  30% (52/171)   \rReceiving objects:  31% (54/171)   \rReceiving objects:  32% (55/171)   \rReceiving objects:  33% (57/171)   \rReceiving objects:  34% (59/171)   \rReceiving objects:  35% (60/171)   \rReceiving objects:  36% (62/171)   \rReceiving objects:  37% (64/171)   \rReceiving objects:  38% (65/171)   \rReceiving objects:  39% (67/171)   \rReceiving objects:  40% (69/171)   \rReceiving objects:  41% (71/171)   \rReceiving objects:  42% (72/171)   \rReceiving objects:  43% (74/171)   \rReceiving objects:  44% (76/171)   \rReceiving objects:  45% (77/171)   \rReceiving objects:  46% (79/171)   \rReceiving objects:  47% (81/171)   \rReceiving objects:  48% (83/171)   \rReceiving objects:  49% (84/171)   \rReceiving objects:  50% (86/171)   \rReceiving objects:  51% (88/171)   \rReceiving objects:  52% (89/171)   \rReceiving objects:  53% (91/171)   \rReceiving objects:  54% (93/171)   \rReceiving objects:  55% (95/171)   \rReceiving objects:  56% (96/171)   \rReceiving objects:  57% (98/171)   \rReceiving objects:  58% (100/171)   \rReceiving objects:  59% (101/171)   \rReceiving objects:  60% (103/171)   \rReceiving objects:  61% (105/171)   \rReceiving objects:  62% (107/171)   \rReceiving objects:  63% (108/171)   \rReceiving objects:  64% (110/171)   \rReceiving objects:  65% (112/171)   \rReceiving objects:  66% (113/171)   \rReceiving objects:  67% (115/171)   \rReceiving objects:  68% (117/171)   \rReceiving objects:  69% (118/171)   \rReceiving objects:  70% (120/171)   \rReceiving objects:  71% (122/171)   \rReceiving objects:  72% (124/171)   \rReceiving objects:  73% (125/171)   \rReceiving objects:  74% (127/171)   \rReceiving objects:  75% (129/171)   \rReceiving objects:  76% (130/171)   \rReceiving objects:  77% (132/171)   \rReceiving objects:  78% (134/171)   \rremote: Total 171 (delta 48), reused 153 (delta 36), pack-reused 0\u001b[K\n",
            "Receiving objects:  79% (136/171)   \rReceiving objects:  80% (137/171)   \rReceiving objects:  81% (139/171)   \rReceiving objects:  82% (141/171)   \rReceiving objects:  83% (142/171)   \rReceiving objects:  84% (144/171)   \rReceiving objects:  85% (146/171)   \rReceiving objects:  86% (148/171)   \rReceiving objects:  87% (149/171)   \rReceiving objects:  88% (151/171)   \rReceiving objects:  89% (153/171)   \rReceiving objects:  90% (154/171)   \rReceiving objects:  91% (156/171)   \rReceiving objects:  92% (158/171)   \rReceiving objects:  93% (160/171)   \rReceiving objects:  94% (161/171)   \rReceiving objects:  95% (163/171)   \rReceiving objects:  96% (165/171)   \rReceiving objects:  97% (166/171)   \rReceiving objects:  98% (168/171)   \rReceiving objects:  99% (170/171)   \rReceiving objects: 100% (171/171)   \rReceiving objects: 100% (171/171), 2.07 MiB | 25.80 MiB/s, done.\n",
            "Resolving deltas:   0% (0/48)   \rResolving deltas:  10% (5/48)   \rResolving deltas:  12% (6/48)   \rResolving deltas:  16% (8/48)   \rResolving deltas:  18% (9/48)   \rResolving deltas:  31% (15/48)   \rResolving deltas:  37% (18/48)   \rResolving deltas:  39% (19/48)   \rResolving deltas:  58% (28/48)   \rResolving deltas:  64% (31/48)   \rResolving deltas:  68% (33/48)   \rResolving deltas:  70% (34/48)   \rResolving deltas:  72% (35/48)   \rResolving deltas:  75% (36/48)   \rResolving deltas:  77% (37/48)   \rResolving deltas:  79% (38/48)   \rResolving deltas:  83% (40/48)   \rResolving deltas:  85% (41/48)   \rResolving deltas:  87% (42/48)   \rResolving deltas:  93% (45/48)   \rResolving deltas:  95% (46/48)   \rResolving deltas: 100% (48/48)   \rResolving deltas: 100% (48/48), done.\n"
          ],
          "name": "stdout"
        }
      ]
    },
    {
      "cell_type": "markdown",
      "metadata": {
        "id": "axSLlkDPWAlo",
        "colab_type": "text"
      },
      "source": [
        "Mount google drive"
      ]
    },
    {
      "cell_type": "code",
      "metadata": {
        "id": "7M2JFM-IECCq",
        "colab_type": "code",
        "outputId": "09f695c7-f016-415c-d80c-f82a226670fa",
        "colab": {
          "base_uri": "https://localhost:8080/",
          "height": 122
        }
      },
      "source": [
        "from google.colab import drive\n",
        "drive.mount('/gdrive')"
      ],
      "execution_count": 5,
      "outputs": [
        {
          "output_type": "stream",
          "text": [
            "Go to this URL in a browser: https://accounts.google.com/o/oauth2/auth?client_id=947318989803-6bn6qk8qdgf4n4g3pfee6491hc0brc4i.apps.googleusercontent.com&redirect_uri=urn%3Aietf%3Awg%3Aoauth%3A2.0%3Aoob&scope=email%20https%3A%2F%2Fwww.googleapis.com%2Fauth%2Fdocs.test%20https%3A%2F%2Fwww.googleapis.com%2Fauth%2Fdrive%20https%3A%2F%2Fwww.googleapis.com%2Fauth%2Fdrive.photos.readonly%20https%3A%2F%2Fwww.googleapis.com%2Fauth%2Fpeopleapi.readonly&response_type=code\n",
            "\n",
            "Enter your authorization code:\n",
            "··········\n",
            "Mounted at /gdrive\n"
          ],
          "name": "stdout"
        }
      ]
    },
    {
      "cell_type": "markdown",
      "metadata": {
        "id": "rKhVdEfIV7i6",
        "colab_type": "text"
      },
      "source": [
        "Copy pre-trained model from my google drive"
      ]
    },
    {
      "cell_type": "code",
      "metadata": {
        "id": "olZ6C0ZwRuxY",
        "colab_type": "code",
        "colab": {}
      },
      "source": [
        "!cp '/gdrive/My Drive/karras2019stylegan-celebahq-1024x1024.pkl' models/pretrain"
      ],
      "execution_count": 0,
      "outputs": []
    },
    {
      "cell_type": "markdown",
      "metadata": {
        "id": "9XzuqqyeWKGm",
        "colab_type": "text"
      },
      "source": [
        "Generate images and latent codes"
      ]
    },
    {
      "cell_type": "code",
      "metadata": {
        "id": "a_hkrc6anzPE",
        "colab_type": "code",
        "colab": {
          "base_uri": "https://localhost:8080/",
          "height": 153
        },
        "outputId": "6e121817-aca3-4b79-bbdd-b115746463d8"
      },
      "source": [
        "#!mkdir data\n",
        "#!python edit.py -m stylegan_celebahq -o \n",
        "#!python generate_data.py -m pggan_celebahq -o data/pggan_celebahq -n \"$NUM\"\n",
        "!rm -rf data/stylegan_celebahq\n",
        "!python generate_data.py -m stylegan_celebahq -o data/stylegan_celebahq -n 10\n"
      ],
      "execution_count": 21,
      "outputs": [
        {
          "output_type": "stream",
          "text": [
            "[2019-09-04 12:53:59,352][INFO] Initializing generator.\n",
            "[2019-09-04 12:53:59,683][INFO] Loading pytorch model from `models/pretrain/stylegan_celebahq.pth`.\n",
            "[2019-09-04 12:54:00,025][INFO] Successfully loaded!\n",
            "[2019-09-04 12:54:00,026][INFO]   `lod` of the loaded model is 0.0.\n",
            "[2019-09-04 12:54:02,524][INFO] Preparing latent codes.\n",
            "[2019-09-04 12:54:02,525][INFO]   Sample latent codes randomly.\n",
            "[2019-09-04 12:54:02,525][INFO] Generating 10 samples.\n",
            "[2019-09-04 12:54:04,329][INFO] Saving results.\n"
          ],
          "name": "stdout"
        }
      ]
    },
    {
      "cell_type": "code",
      "metadata": {
        "id": "xs4fGSf-Sgnm",
        "colab_type": "code",
        "colab": {
          "base_uri": "https://localhost:8080/",
          "height": 51
        },
        "outputId": "2c91db88-22b0-46cb-9c4c-c86a4e01f3b5"
      },
      "source": [
        "!ls data/stylegan_celebahq/"
      ],
      "execution_count": 22,
      "outputs": [
        {
          "output_type": "stream",
          "text": [
            "000000.jpg  000002.jpg\t000004.jpg  000006.jpg\t000008.jpg  log.txt  wp.npy\n",
            "000001.jpg  000003.jpg\t000005.jpg  000007.jpg\t000009.jpg  w.npy    z.npy\n"
          ],
          "name": "stdout"
        }
      ]
    },
    {
      "cell_type": "code",
      "metadata": {
        "id": "9i-kQbNeVXxK",
        "colab_type": "code",
        "colab": {
          "base_uri": "https://localhost:8080/",
          "height": 170
        },
        "outputId": "0e2f7555-1544-494a-c56d-aedda7943b40"
      },
      "source": [
        "#!mkdir results\n",
        "!rm -rf results/stylegan_celebahq_smile_editing\n",
        "#!python edit.py -h\n",
        "!python edit.py  -m stylegan_celebahq -b boundaries/stylegan_celebahq_smile_boundary.npy -i data/stylegan_celebahq/z.npy -o results/stylegan_celebahq_smile_editing "
      ],
      "execution_count": 29,
      "outputs": [
        {
          "output_type": "stream",
          "text": [
            "[2019-09-04 13:05:58,228][INFO] Initializing generator.\n",
            "[2019-09-04 13:05:58,531][INFO] Loading pytorch model from `models/pretrain/stylegan_celebahq.pth`.\n",
            "[2019-09-04 13:05:58,864][INFO] Successfully loaded!\n",
            "[2019-09-04 13:05:58,865][INFO]   `lod` of the loaded model is 0.0.\n",
            "[2019-09-04 13:06:01,371][INFO] Preparing boundary.\n",
            "[2019-09-04 13:06:01,383][INFO] Preparing latent codes.\n",
            "[2019-09-04 13:06:01,383][INFO]   Load latent codes from `data/stylegan_celebahq/z.npy`.\n",
            "[2019-09-04 13:06:01,384][INFO] Editing 10 samples.\n",
            "[2019-09-04 13:06:18,039][INFO] Successfully edited 10 samples.\n"
          ],
          "name": "stdout"
        }
      ]
    },
    {
      "cell_type": "code",
      "metadata": {
        "id": "bVvFhetRWoKY",
        "colab_type": "code",
        "colab": {}
      },
      "source": [
        ""
      ],
      "execution_count": 0,
      "outputs": []
    }
  ]
}